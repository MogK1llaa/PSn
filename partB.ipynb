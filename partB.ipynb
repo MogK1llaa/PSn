{
 "cells": [
  {
   "cell_type": "code",
   "execution_count": 3,
   "id": "trying-layer",
   "metadata": {},
   "outputs": [],
   "source": [
    "import geopandas as gpd\n",
    "import os\n",
    "\n",
    "filePath='E:/faculdade/PSn_Municipios/gadm36_PRT.gpkg'\n",
    "path1='E:/faculdade/PSn_Municipios/'\n",
    "\n",
    "shapefile = gpd.read_file(filePath)\n",
    "shapefile['join']=shapefile['NAME_1']+shapefile['NAME_2']\n",
    "shp=shapefile.dissolve(by='join')"
   ]
  },
  {
   "cell_type": "code",
   "execution_count": 4,
   "id": "sustainable-norman",
   "metadata": {},
   "outputs": [],
   "source": [
    "f=open(os.path.join(path1,'municipios_all.txt'),'r',encoding='utf8')\n",
    "munExcel = [mun.strip() for mun in f.readlines()]\n",
    "f.close()"
   ]
  },
  {
   "cell_type": "code",
   "execution_count": 5,
   "id": "spatial-lunch",
   "metadata": {},
   "outputs": [
    {
     "name": "stdout",
     "output_type": "stream",
     "text": [
      "**\n"
     ]
    }
   ],
   "source": [
    "munGeo=shp['NAME_2'].to_list()\n",
    "\n",
    "shp.loc[shp['NAME_2']=='Ponte de Sôr','NAME_2']='Ponte de Sor'\n",
    "shp.loc[shp['NAME_2']=='Praia da Vitória','NAME_2']='Vila da Praia da Vitória'\n",
    "shp.loc[((shp['NAME_2']=='Calheta') & (shp['NAME_1']=='Azores')),'NAME_2']='Calheta [R.A.A.]'\n",
    "shp.loc[((shp['NAME_2']=='Calheta') & (shp['NAME_1']=='Madeira')),'NAME_2']='Calheta [R.A.M.]'\n",
    "shp.loc[((shp['NAME_2']=='Lagoa') & (shp['NAME_1']=='Azores')),'NAME_2']='Lagoa [R.A.A.]'\n",
    "\n",
    "munGeo=shp['NAME_2'].to_list()\n",
    "\n",
    "for m in munExcel:\n",
    "    if m not in munGeo:\n",
    "        print('Falta',m)\n",
    "print('**')\n",
    "for m in munGeo:\n",
    "    if m not in munExcel:\n",
    "        print('Falta',m)"
   ]
  },
  {
   "cell_type": "code",
   "execution_count": null,
   "id": "lasting-automation",
   "metadata": {},
   "outputs": [],
   "source": []
  },
  {
   "cell_type": "code",
   "execution_count": null,
   "id": "happy-instrument",
   "metadata": {},
   "outputs": [],
   "source": [
    "import geopandas as gpd\n",
    "import matplotlib as mpl\n",
    "import matplotlib.pyplot as plt\n",
    "import numpy as np"
   ]
  },
  {
   "cell_type": "code",
   "execution_count": 4,
   "id": "promising-bullet",
   "metadata": {},
   "outputs": [
    {
     "ename": "NameError",
     "evalue": "name 'municipios' is not defined",
     "output_type": "error",
     "traceback": [
      "\u001b[1;31m---------------------------------------------------------------------------\u001b[0m",
      "\u001b[1;31mNameError\u001b[0m                                 Traceback (most recent call last)",
      "\u001b[1;32m<ipython-input-4-6b9280e7dfda>\u001b[0m in \u001b[0;36m<module>\u001b[1;34m\u001b[0m\n\u001b[1;32m----> 1\u001b[1;33m \u001b[0mportugal\u001b[0m \u001b[1;33m=\u001b[0m \u001b[0mmunicipios\u001b[0m\u001b[1;33m[\u001b[0m\u001b[1;34m'NAME_2'\u001b[0m\u001b[1;33m]\u001b[0m\u001b[1;33m.\u001b[0m\u001b[0mtolist\u001b[0m\u001b[1;33m(\u001b[0m\u001b[1;33m)\u001b[0m\u001b[1;33m\u001b[0m\u001b[1;33m\u001b[0m\u001b[0m\n\u001b[0m\u001b[0;32m      2\u001b[0m \u001b[0macores\u001b[0m\u001b[1;33m=\u001b[0m\u001b[0mmunicipios\u001b[0m\u001b[1;33m[\u001b[0m\u001b[1;34m'NAME_2'\u001b[0m\u001b[1;33m]\u001b[0m\u001b[1;33m[\u001b[0m\u001b[0mmunicipios\u001b[0m\u001b[1;33m[\u001b[0m\u001b[1;34m'NAME_1'\u001b[0m\u001b[1;33m]\u001b[0m\u001b[1;33m==\u001b[0m\u001b[1;34m'Azores'\u001b[0m\u001b[1;33m]\u001b[0m\u001b[1;33m.\u001b[0m\u001b[0mtolist\u001b[0m\u001b[1;33m(\u001b[0m\u001b[1;33m)\u001b[0m\u001b[1;33m\u001b[0m\u001b[1;33m\u001b[0m\u001b[0m\n\u001b[0;32m      3\u001b[0m \u001b[0mmadeira\u001b[0m\u001b[1;33m=\u001b[0m\u001b[0mmunicipios\u001b[0m\u001b[1;33m[\u001b[0m\u001b[1;34m'NAME_2'\u001b[0m\u001b[1;33m]\u001b[0m\u001b[1;33m[\u001b[0m\u001b[0mmunicipios\u001b[0m\u001b[1;33m[\u001b[0m\u001b[1;34m'NAME_1'\u001b[0m\u001b[1;33m]\u001b[0m\u001b[1;33m==\u001b[0m\u001b[1;34m'Madeira'\u001b[0m\u001b[1;33m]\u001b[0m\u001b[1;33m.\u001b[0m\u001b[0mtolist\u001b[0m\u001b[1;33m(\u001b[0m\u001b[1;33m)\u001b[0m\u001b[1;33m\u001b[0m\u001b[1;33m\u001b[0m\u001b[0m\n\u001b[0;32m      4\u001b[0m \u001b[0mcontinente\u001b[0m\u001b[1;33m=\u001b[0m\u001b[1;33m[\u001b[0m\u001b[0mv\u001b[0m \u001b[1;32mfor\u001b[0m \u001b[0mv\u001b[0m \u001b[1;32min\u001b[0m \u001b[0mportugal\u001b[0m \u001b[1;32mif\u001b[0m \u001b[0mv\u001b[0m \u001b[1;32mnot\u001b[0m \u001b[1;32min\u001b[0m \u001b[0macores\u001b[0m\u001b[1;33m+\u001b[0m\u001b[0mmadeira\u001b[0m\u001b[1;33m]\u001b[0m\u001b[1;33m\u001b[0m\u001b[1;33m\u001b[0m\u001b[0m\n",
      "\u001b[1;31mNameError\u001b[0m: name 'municipios' is not defined"
     ]
    }
   ],
   "source": [
    "portugal = municipios['NAME_2'].tolist()\n",
    "acores=municipios['NAME_2'][municipios['NAME_1']=='Azores'].tolist()\n",
    "madeira=municipios['NAME_2'][municipios['NAME_1']=='Madeira'].tolist()\n",
    "continente=[v for v in portugal if v not in acores+madeira]"
   ]
  },
  {
   "cell_type": "code",
   "execution_count": null,
   "id": "regulation-virgin",
   "metadata": {},
   "outputs": [],
   "source": [
    "def colorFader(c1,c2,mix=0):\n",
    "    c1=np.array(mpl.colors.to_rgb(c1))\n",
    "    c2=np.array(mpl.colors.to_rgb(c2))\n",
    "    return mpl.colors.to_hex((1-mix)*c1+mix*c2)"
   ]
  },
  {
   "cell_type": "code",
   "execution_count": null,
   "id": "focused-reducing",
   "metadata": {},
   "outputs": [],
   "source": [
    "def makeMaps(df,col):\n",
    "    \n",
    "    cmap = plt.cm.rainbow\n",
    "    \n",
    "    ax = plt.gca()\n",
    "    for m in madeira:\n",
    "        muni = municipios['geometry'][municipios['NAME_2']==m]\n",
    "        value = df.loc[m][col]\n",
    "        colorCode=mpl.colors.to_hex(cmap(value)[0:3])\n",
    "        muni.plot(color=colorCode, ax=ax)\n",
    "    plt.title('Madeira'+str(df['Ano'][0]))\n",
    "    plt.show()\n",
    "    \n",
    "    ax = plt.gca()\n",
    "    for m in acores:\n",
    "        muni=municipios['geometry'][municipios['NAME_2']==m]\n",
    "        value=df.loc[m][col]\n",
    "        colorCode=mpl.colors.to_hex(cmap(value)[0:3])\n",
    "        muni.plot(color=colorCode, ax=ax)\n",
    "    plt.title('Açores'+str(df['Ano'][0]))\n",
    "    plt.show()\n",
    "    \n",
    "    ax = plt.gca()\n",
    "    for m in continente:\n",
    "        muni=municipios['geometry'][municipios['NAME_2']==m]\n",
    "        value=df.loc[m][col]\n",
    "        colorCode=mpl.colors.to_hex(cmap(value)[0:3])\n",
    "        muni.plot(color=colorCode, ax=ax)\n",
    "    plt.title('Continente'+str(df['Ano'][0])\n",
    "    plt.show()"
   ]
  },
  {
   "cell_type": "code",
   "execution_count": null,
   "id": "flexible-fruit",
   "metadata": {},
   "outputs": [],
   "source": [
    "def makeMapTot(df,col): # Mapas dos municipios\n",
    "    \n",
    "    cmap = plt.cm.rainbow\n",
    "    \n",
    "    ax = plt.gca()\n",
    "    for m in portugal:\n",
    "        muni=municipios['geometry'][municipios['NAME_2']==m]\n",
    "        value=df.loc[m][col]\n",
    "        colorCode=mpl.colors.to_hex(cmap(value)[0:3])\n",
    "        muni.plot(color=colorCode, ax=ax)\n",
    "    plt.title('Portugal todo'+str(df['Ano'][0]))\n",
    "    plt.show()"
   ]
  },
  {
   "cell_type": "code",
   "execution_count": null,
   "id": "classified-wages",
   "metadata": {},
   "outputs": [],
   "source": [
    "import pandas as pd\n",
    "\n",
    "df=pd.read_excel('data.xlsx', index_col='Unnamed: 0')\n",
    "\n",
    "minInd=df['Índice de envelhecimento'].min()\n",
    "maxInd=df['Índice de envelhecimento'].max()\n",
    "df['indEnv']=df['Índice de envelhecimento'].apply(lambda x: ((x-minInd)/(maxInd-minInd)))\n",
    "\n",
    "makeMaps(df[df['Ano']==2010],'indEnv')\n",
    "makeMaps(df[df['Ano']==2019],'indEnv')"
   ]
  }
 ],
 "metadata": {
  "kernelspec": {
   "display_name": "Python 3",
   "language": "python",
   "name": "python3"
  },
  "language_info": {
   "codemirror_mode": {
    "name": "ipython",
    "version": 3
   },
   "file_extension": ".py",
   "mimetype": "text/x-python",
   "name": "python",
   "nbconvert_exporter": "python",
   "pygments_lexer": "ipython3",
   "version": "3.8.8"
  }
 },
 "nbformat": 4,
 "nbformat_minor": 5
}
